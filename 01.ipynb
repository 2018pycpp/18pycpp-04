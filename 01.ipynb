{
 "cells": [
  {
   "cell_type": "markdown",
   "metadata": {},
   "source": [
    "# Instantiating `class`es"
   ]
  },
  {
   "cell_type": "markdown",
   "metadata": {},
   "source": [
    "* In the object oriented programming [paradigm](https://en.wikipedia.org/wiki/Programming_paradigm), `class` and `objects` are two of the key concepts.\n",
    "\n",
    "* Let's think about making [waffles](https://en.wikipedia.org/wiki/Waffle).\n",
    "\n",
    "[![waffle making](https://upload.wikimedia.org/wikipedia/commons/thumb/c/c5/Waffles.webmhd.webm/220px--Waffles.webmhd.webm.jpg)](https://upload.wikimedia.org/wikipedia/commons/transcoded/c/c5/Waffles.webmhd.webm/Waffles.webmhd.webm.480p.webm)\n",
    "\n",
    "* In the *void* of hot waffle iron, we may put *batter* and cook.\n",
    "* The shape of the iron would decide *properties* of the waffle such as shape and size.\n",
    "* Once you take out the waffle out of the iron, you may add some fruits or additives to your flavor.\n",
    "* People will normally eat waffles not the irons.\n",
    "\n"
   ]
  },
  {
   "cell_type": "markdown",
   "metadata": {},
   "source": [
    "* We can say that a `class` is like the waffle iron while the `objects` are waffles made from that iron.\n",
    "* The `class` would define the attributes of its `instance`s, the `objects`.\n",
    "* The `instances` would occupy the memory; the class itself does not.\n",
    "* The `object`s would interact with other objects to achieve its purpose.\n",
    "* We may *inherit* an existing `class` to design another more suitable for our purpose.\n",
    "\n"
   ]
  },
  {
   "cell_type": "markdown",
   "metadata": {},
   "source": [
    "## Example : Bank account"
   ]
  },
  {
   "cell_type": "markdown",
   "metadata": {},
   "source": [
    "* Let's start with a class for a bank account.\n",
    "* We would need to be able to *deposit* some amount of the money.\n",
    "* We also would need to *withdraw* from the account.\n",
    "* Of course *checking the balance* would be necessary, too."
   ]
  },
  {
   "cell_type": "code",
   "execution_count": null,
   "metadata": {},
   "outputs": [],
   "source": [
    "class BankAccount(object):\n",
    "    def __init__(self):\n",
    "        self.balance = 0\n",
    "\n",
    "    def deposit(self, amount):\n",
    "        self.balance += amount\n",
    "\n",
    "    def withdraw(self, amount):\n",
    "        self.balance += amount\n",
    "\n",
    "    def check_balance(self):\n",
    "        return self.balance\n",
    "\n"
   ]
  },
  {
   "cell_type": "code",
   "execution_count": null,
   "metadata": {},
   "outputs": [],
   "source": [
    "def main():\n",
    "    account_a = BankAccount()\n",
    "    account_b = BankAccount()\n",
    "    \n",
    "    print('balance A = ', account_a.check_balance())\n",
    "    print('balance B = ', account_b.check_balance())\n",
    "\n",
    "    account_a.deposit(100)\n",
    "    account_b.deposit(200)\n",
    "\n",
    "    print('balance A = ', account_a.check_balance())\n",
    "    print('balance B = ', account_b.check_balance())\n",
    "\n",
    "    account_a.withdraw(10)\n",
    "    account_b.withdraw(20)\n",
    "\n",
    "    print('balance A = ', account_a.check_balance())\n",
    "    print('balance B = ', account_b.check_balance())\n",
    "\n",
    "    account_a.withdraw(100)\n",
    "    account_b.withdraw(200)\n",
    "\n",
    "    print('balance A = ', account_a.check_balance())\n",
    "    print('balance B = ', account_b.check_balance())\n",
    "\n"
   ]
  },
  {
   "cell_type": "code",
   "execution_count": null,
   "metadata": {},
   "outputs": [],
   "source": [
    "main()\n",
    "\n"
   ]
  },
  {
   "cell_type": "markdown",
   "metadata": {},
   "source": [
    "* The example above can deposit, withdraw, and check the balance.\n",
    "* However, we can see that this class allows the balance to go negative.\n",
    "* If we want to do something about it, what modifications would we need?\n",
    "* Additionally, would it be beneficial if we could **reuse** the existing work instead of starting from the ground up again?\n",
    "\n"
   ]
  },
  {
   "cell_type": "code",
   "execution_count": null,
   "metadata": {},
   "outputs": [],
   "source": [
    "def NonNegativeAccount(BankAccount):\n",
    "    def __init__(self):\n",
    "        super().__init__(self)\n",
    "\n",
    "    def withdraw(self, amount):\n",
    "        if self.check_balance() >= amount:\n",
    "            super().withdraw(self, amount)\n",
    "        else:\n",
    "            self.balance = 0\n",
    "\n"
   ]
  },
  {
   "cell_type": "code",
   "execution_count": null,
   "metadata": {},
   "outputs": [],
   "source": []
  }
 ],
 "metadata": {
  "kernelspec": {
   "display_name": "Python 3",
   "language": "python",
   "name": "python3"
  },
  "language_info": {
   "codemirror_mode": {
    "name": "ipython",
    "version": 3
   },
   "file_extension": ".py",
   "mimetype": "text/x-python",
   "name": "python",
   "nbconvert_exporter": "python",
   "pygments_lexer": "ipython3",
   "version": "3.6.4"
  }
 },
 "nbformat": 4,
 "nbformat_minor": 2
}
