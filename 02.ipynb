{
 "cells": [
  {
   "cell_type": "markdown",
   "metadata": {},
   "source": [
    "# Accessing members"
   ]
  },
  {
   "cell_type": "markdown",
   "metadata": {},
   "source": [
    "* Following blocks are one possible implementation of vectors of `double`s."
   ]
  },
  {
   "cell_type": "markdown",
   "metadata": {},
   "source": [
    "* Here, member variable `new_name` is in `protected:` part.\n",
    "* Member methods and subclass members can access this variable but from the outside of the class, we cannot access it.\n",
    "* We call it **encapsulation**; instead of directly reading or writing to the variable, we would use mutator or reader **methods**.\n",
    "* This is because to modularize software components to the level of integrated circuit chips."
   ]
  },
  {
   "cell_type": "markdown",
   "metadata": {},
   "source": [
    "* Until 1990's, [*software crisis*](https://en.wikipedia.org/wiki/Software_crisis) was one of important issues surrounding the so-called *IT communities* around the world.\n",
    "* It referred that developing software within time and budget was not easy.\n",
    "* In my humble opinion, it is still not resolved yet.  However one of the motivations of **object oritented programming** was to help software development more managable by dividing the bigger and more compliex problems into smaller and simpler problems."
   ]
  },
  {
   "cell_type": "markdown",
   "metadata": {},
   "source": [
    "``` C++\n",
    "// Begin vector_double.h\n",
    "\n",
    "#include <cassert>\n",
    "#include <cstdint>\n",
    "#include <exception>\n",
    "#include <iostream>\n",
    "#include <string>\n",
    "#include <vector>\n",
    "\n",
    "\n",
    "#ifndef LOG\n",
    "#define LOG\n",
    "#endif\n",
    "\n",
    "\n",
    "class RowVector \n",
    "{\n",
    "    // automatic allocation\n",
    "    // https://stackoverflow.com/questions/8553464/vector-as-a-class-member\n",
    "    std::vector<double> columns;\n",
    "\n",
    "    protected:\n",
    "        std::string name;\n",
    "\n",
    "    public:\n",
    "        // Default constructor\n",
    "\t\tRowVector();\n",
    "\n",
    "        ~ RowVector();\n",
    "\n",
    "        // Default arguments\n",
    "        // If the function could not find the argument in the call, it uses the default value.\n",
    "        RowVector(const uint32_t n, const double *values=NULL, std::string new_name=\"None\");\n",
    "\n",
    "        // Instead of implementing another constructor, reusing an existing one\n",
    "        // c++ 11 or later\n",
    "        RowVector(const uint32_t n, std::string new_name=\"None\");\n",
    "\n",
    "        RowVector(const RowVector & other);\n",
    "\n",
    "        double & operator [] (const uint32_t i);\n",
    "\n",
    "        const std::string get_name();\n",
    "\n",
    "        RowVector operator + (const RowVector & other);\n",
    "\n",
    "        RowVector operator * (const double a);\n",
    "\n",
    "        const double operator * (const RowVector & other);\n",
    "\n",
    "        void show();\n",
    "};\n",
    "\n",
    "// End vector_double.h\n",
    "\n",
    "```"
   ]
  },
  {
   "cell_type": "code",
   "execution_count": null,
   "metadata": {},
   "outputs": [],
   "source": []
  }
 ],
 "metadata": {
  "kernelspec": {
   "display_name": "Python 3",
   "language": "python",
   "name": "python3"
  },
  "language_info": {
   "codemirror_mode": {
    "name": "ipython",
    "version": 3
   },
   "file_extension": ".py",
   "mimetype": "text/x-python",
   "name": "python",
   "nbconvert_exporter": "python",
   "pygments_lexer": "ipython3",
   "version": "3.6.5"
  }
 },
 "nbformat": 4,
 "nbformat_minor": 2
}
