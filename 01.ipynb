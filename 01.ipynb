{
 "cells": [
  {
   "cell_type": "markdown",
   "metadata": {},
   "source": [
    "# Instantiating `class`es"
   ]
  },
  {
   "cell_type": "markdown",
   "metadata": {},
   "source": [
    "* In the object oriented programming [paradigm](https://en.wikipedia.org/wiki/Programming_paradigm), `class` and `objects` are two of the key concepts.\n",
    "\n",
    "* Let's think about making [waffles](https://en.wikipedia.org/wiki/Waffle).\n",
    "\n",
    "[![waffle making](https://upload.wikimedia.org/wikipedia/commons/thumb/c/c5/Waffles.webmhd.webm/220px--Waffles.webmhd.webm.jpg)](https://upload.wikimedia.org/wikipedia/commons/transcoded/c/c5/Waffles.webmhd.webm/Waffles.webmhd.webm.480p.webm)\n",
    "\n",
    "* In the *void* of hot waffle iron, we may put *batter* and cook.\n",
    "* The shape of the iron would decide *properties* of the waffle such as shape and size.\n",
    "* Once you take out the waffle out of the iron, you may add some fruits or additives to your flavor.\n",
    "* People will normally eat waffles not the irons.\n",
    "\n"
   ]
  },
  {
   "cell_type": "markdown",
   "metadata": {},
   "source": [
    "* We can say that a `class` is like the waffle iron while the `objects` are waffles made from that iron.\n",
    "* The `class` would define the attributes of its `instance`s, the `objects`.\n",
    "* The `instances` would occupy the memory; the class itself does not.\n",
    "* The `object`s would interact with other objects to achieve its purpose.\n",
    "* Based on one `class` design, we may *inherit* another design more suitable for our purpose.\n",
    "\n"
   ]
  },
  {
   "cell_type": "code",
   "execution_count": null,
   "metadata": {},
   "outputs": [],
   "source": []
  }
 ],
 "metadata": {
  "kernelspec": {
   "display_name": "Python 3",
   "language": "python",
   "name": "python3"
  },
  "language_info": {
   "codemirror_mode": {
    "name": "ipython",
    "version": 3
   },
   "file_extension": ".py",
   "mimetype": "text/x-python",
   "name": "python",
   "nbconvert_exporter": "python",
   "pygments_lexer": "ipython3",
   "version": "3.6.4"
  }
 },
 "nbformat": 4,
 "nbformat_minor": 2
}
